{
  "nbformat": 4,
  "nbformat_minor": 0,
  "metadata": {
    "colab": {
      "name": "create-pascal-voc.ipynb",
      "provenance": [],
      "toc_visible": true,
      "mount_file_id": "1XqHKEBvZFdUZdvi_5K0lvG6DNi7yWo0X",
      "authorship_tag": "ABX9TyMCgnrSu2RmNLR9G4FbqzGt",
      "include_colab_link": true
    },
    "kernelspec": {
      "name": "python3",
      "display_name": "Python 3"
    }
  },
  "cells": [
    {
      "cell_type": "markdown",
      "metadata": {
        "id": "view-in-github",
        "colab_type": "text"
      },
      "source": [
        "<a href=\"https://colab.research.google.com/github/Jamie228/ump/blob/main/create_pascal_voc.ipynb\" target=\"_parent\"><img src=\"https://colab.research.google.com/assets/colab-badge.svg\" alt=\"Open In Colab\"/></a>"
      ]
    },
    {
      "cell_type": "markdown",
      "metadata": {
        "id": "2cT6aW4aOeF9"
      },
      "source": [
        "# Create PASCAL-VOC Annotation File from Annotation CSV\r\n",
        "This code should take the CSV of bounding boxes for the dataset and create a Pascal-VOC XML file for each image. This will enable the dataset to be used with more object detection tools."
      ]
    },
    {
      "cell_type": "markdown",
      "metadata": {
        "id": "-HQSXIHlmOhl"
      },
      "source": [
        "## Import Dependencies\r\n",
        "The dependencies for this project are as follows:\r\n",
        "- **Pandas**: For CSV importing and data queries\r\n",
        "- **cElementTree**: For forming the XML files\r\n",
        "- **NumPy**: For better iterability of the Pandas DataFrame"
      ]
    },
    {
      "cell_type": "code",
      "metadata": {
        "id": "si06HaaEOW9j"
      },
      "source": [
        "import pandas as pd\r\n",
        "import xml.etree.cElementTree as ET\r\n",
        "import numpy as np"
      ],
      "execution_count": 2,
      "outputs": []
    },
    {
      "cell_type": "markdown",
      "metadata": {
        "id": "EsVJCD15m-WI"
      },
      "source": [
        "## Define Constants and Important Variables"
      ]
    },
    {
      "cell_type": "code",
      "metadata": {
        "id": "AguTGhHXSia6"
      },
      "source": [
        "## Array of all image prefixes\r\n",
        "images = ['A', 'B', 'D', 'E', 'F', 'G', 'LC', 'HC', 'XA', 'XB', 'XC', 'XD', 'XE', 'XF', 'XG', 'XH', 'XI', 'XJ']\r\n",
        "## Path to CSV\r\n",
        "CSV_PATH = './drive/MyDrive/Tensorflow/workspace/training_demo/images/train/labels.csv'\r\n",
        "CSV_COLS = ['class', 'xmin', 'ymin', 'xmax', 'ymax', 'filename', 'width', 'height']"
      ],
      "execution_count": 3,
      "outputs": []
    },
    {
      "cell_type": "markdown",
      "metadata": {
        "id": "8vIZkZEeml5x"
      },
      "source": [
        "## Import CSV and Label Columns"
      ]
    },
    {
      "cell_type": "code",
      "metadata": {
        "colab": {
          "base_uri": "https://localhost:8080/",
          "height": 195
        },
        "id": "asunxvjQQWTN",
        "outputId": "4fae6609-73d3-424f-ab60-060b8c664af6"
      },
      "source": [
        "annotations = pd.read_csv(CSV_PATH, header=None, names=CSV_COLS)\r\n",
        "annotations.head()"
      ],
      "execution_count": 4,
      "outputs": [
        {
          "output_type": "execute_result",
          "data": {
            "text/html": [
              "<div>\n",
              "<style scoped>\n",
              "    .dataframe tbody tr th:only-of-type {\n",
              "        vertical-align: middle;\n",
              "    }\n",
              "\n",
              "    .dataframe tbody tr th {\n",
              "        vertical-align: top;\n",
              "    }\n",
              "\n",
              "    .dataframe thead th {\n",
              "        text-align: right;\n",
              "    }\n",
              "</style>\n",
              "<table border=\"1\" class=\"dataframe\">\n",
              "  <thead>\n",
              "    <tr style=\"text-align: right;\">\n",
              "      <th></th>\n",
              "      <th>class</th>\n",
              "      <th>xmin</th>\n",
              "      <th>ymin</th>\n",
              "      <th>xmax</th>\n",
              "      <th>ymax</th>\n",
              "      <th>filename</th>\n",
              "      <th>width</th>\n",
              "      <th>height</th>\n",
              "    </tr>\n",
              "  </thead>\n",
              "  <tbody>\n",
              "    <tr>\n",
              "      <th>0</th>\n",
              "      <td>A</td>\n",
              "      <td>10</td>\n",
              "      <td>8</td>\n",
              "      <td>28</td>\n",
              "      <td>70</td>\n",
              "      <td>A.jpeg</td>\n",
              "      <td>41</td>\n",
              "      <td>78</td>\n",
              "    </tr>\n",
              "    <tr>\n",
              "      <th>1</th>\n",
              "      <td>A</td>\n",
              "      <td>8</td>\n",
              "      <td>5</td>\n",
              "      <td>27</td>\n",
              "      <td>69</td>\n",
              "      <td>A_1.jpeg</td>\n",
              "      <td>41</td>\n",
              "      <td>78</td>\n",
              "    </tr>\n",
              "    <tr>\n",
              "      <th>2</th>\n",
              "      <td>A</td>\n",
              "      <td>14</td>\n",
              "      <td>2</td>\n",
              "      <td>31</td>\n",
              "      <td>67</td>\n",
              "      <td>A_2.jpeg</td>\n",
              "      <td>41</td>\n",
              "      <td>78</td>\n",
              "    </tr>\n",
              "    <tr>\n",
              "      <th>3</th>\n",
              "      <td>A</td>\n",
              "      <td>7</td>\n",
              "      <td>9</td>\n",
              "      <td>29</td>\n",
              "      <td>71</td>\n",
              "      <td>A_3.jpeg</td>\n",
              "      <td>41</td>\n",
              "      <td>78</td>\n",
              "    </tr>\n",
              "    <tr>\n",
              "      <th>4</th>\n",
              "      <td>A</td>\n",
              "      <td>8</td>\n",
              "      <td>6</td>\n",
              "      <td>28</td>\n",
              "      <td>71</td>\n",
              "      <td>A_4.jpeg</td>\n",
              "      <td>41</td>\n",
              "      <td>78</td>\n",
              "    </tr>\n",
              "  </tbody>\n",
              "</table>\n",
              "</div>"
            ],
            "text/plain": [
              "  class  xmin  ymin  xmax  ymax  filename  width  height\n",
              "0     A    10     8    28    70    A.jpeg     41      78\n",
              "1     A     8     5    27    69  A_1.jpeg     41      78\n",
              "2     A    14     2    31    67  A_2.jpeg     41      78\n",
              "3     A     7     9    29    71  A_3.jpeg     41      78\n",
              "4     A     8     6    28    71  A_4.jpeg     41      78"
            ]
          },
          "metadata": {
            "tags": []
          },
          "execution_count": 4
        }
      ]
    },
    {
      "cell_type": "code",
      "metadata": {
        "colab": {
          "base_uri": "https://localhost:8080/"
        },
        "id": "-HRCtk8SboDb",
        "outputId": "1f4c5aec-a1af-4381-fd1e-47f8dcef3b69"
      },
      "source": [
        "img = \"A\"\r\n",
        "fn = img + \".jpeg\"\r\n",
        "ann = annotations.query(\"filename == @fn\")\r\n",
        "ann = np.array(ann)\r\n",
        "width = ann[0][6]\r\n",
        "height = ann[0][7]\r\n",
        "print(width, height)"
      ],
      "execution_count": null,
      "outputs": [
        {
          "output_type": "stream",
          "text": [
            "41 78\n"
          ],
          "name": "stdout"
        }
      ]
    },
    {
      "cell_type": "markdown",
      "metadata": {
        "id": "cp-P6gC8om0l"
      },
      "source": [
        "## Define XML Creation Function"
      ]
    },
    {
      "cell_type": "code",
      "metadata": {
        "id": "gV6fCFAPbbCi"
      },
      "source": [
        "def create_xml(img):\r\n",
        "  \"\"\"Creates an XML file for a given image prefix\r\n",
        "\r\n",
        "  Arguments:\r\n",
        "  img (str): A string of an image's name without the file extension\r\n",
        "\r\n",
        "  Returns:\r\n",
        "  None\r\n",
        "  \"\"\"\r\n",
        "  #Create filename from image name\r\n",
        "  fn = img + \".jpeg\"\r\n",
        "  #Get all bounding boxes for the image\r\n",
        "  ann = annotations.query(\"filename == @fn\")\r\n",
        "  #Convert to array\r\n",
        "  ann = np.array(ann)\r\n",
        "\r\n",
        "  #Define XML root\r\n",
        "  root = ET.Element(\"annotation\")\r\n",
        "  #XML folder, filename and path attributes\r\n",
        "  folder = ET.SubElement(root, \"folder\").text = \"train\"\r\n",
        "  filename = ET.SubElement(root, \"filename\").text = fn\r\n",
        "  path = ET.SubElement(root, \"path\").text = \"./drive/MyDrive/Tensorflow/workspace/training_demo/images/train/\" + fn\r\n",
        "  #Define source element\r\n",
        "  source = ET.SubElement(root, \"source\")\r\n",
        "  #Database element\r\n",
        "  db = ET.SubElement(source, \"database\").text = \"Note\"\r\n",
        "  #Height, width and depth of image\r\n",
        "  size = ET.SubElement(root, \"size\")\r\n",
        "  width = ET.SubElement(size, \"width\"). text = str(ann[0][6])\r\n",
        "  height = ET.SubElement(size, \"height\").text = str(ann[0][7])\r\n",
        "  depth = ET.SubElement(size, \"depth\").text = \"3\"\r\n",
        "  #Segemented element\r\n",
        "  segmented = ET.SubElement(root, \"segmented\").text = \"0\"\r\n",
        "  #Create object eement with bounding box coordinates for each bounding box\r\n",
        "  for bb in ann:\r\n",
        "    obj = ET.SubElement(root, \"object\")\r\n",
        "    name = ET.SubElement(obj, \"name\").text = \"note\"\r\n",
        "    pose = ET.SubElement(obj, \"pose\").text = \"Unspecified\"\r\n",
        "    trunc = ET.SubElement(obj, \"truncated\").text = \"0\"\r\n",
        "    diff = ET.SubElement(obj, \"difficult\").text = \"0\"\r\n",
        "    bbox = ET.SubElement(obj, \"bndbox\")\r\n",
        "    xmin = ET.SubElement(bbox, \"xmin\").text = str(bb[1])\r\n",
        "    ymin = ET.SubElement(bbox, \"ymin\").text = str(bb[2])\r\n",
        "    xmax = ET.SubElement(bbox, \"xmax\").text = str(bb[3])\r\n",
        "    ymax = ET.SubElement(bbox, \"ymax\").text = str(bb[4])\r\n",
        "  \r\n",
        "  #Create XML tree and write to file\r\n",
        "  tree = ET.ElementTree(root)\r\n",
        "  tree.write(\"./drive/MyDrive/annotations/\" + img + \".xml\")"
      ],
      "execution_count": 7,
      "outputs": []
    },
    {
      "cell_type": "markdown",
      "metadata": {
        "id": "YUtu6QFYs6y-"
      },
      "source": [
        "## Create XML Files"
      ]
    },
    {
      "cell_type": "code",
      "metadata": {
        "id": "PWB5tK-6S7XJ"
      },
      "source": [
        "#Loop through image array and create an XML file for each image and its 30 augmented counter parts\r\n",
        "#E.g: A.jpeg, A_1.jpeg, A_2.jpeg ... A_30.jpeg, B.jpeg ... XJ_30.jpeg\r\n",
        "for img in images:\r\n",
        "  create_xml(img)\r\n",
        "  for x in range(1, 31):\r\n",
        "    n = img + \"_\" + str(x)\r\n",
        "    create_xml(n)"
      ],
      "execution_count": null,
      "outputs": []
    }
  ]
}